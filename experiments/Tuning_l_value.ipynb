{
 "cells": [
  {
   "cell_type": "code",
   "execution_count": null,
   "metadata": {},
   "outputs": [],
   "source": [
    "!pip install loguru\n",
    "!pip install saxpy"
   ]
  },
  {
   "cell_type": "code",
   "execution_count": null,
   "metadata": {},
   "outputs": [],
   "source": [
    "import sys\n",
    "import time\n",
    "\n",
    "from loguru import logger\n",
    "\n",
    "# Custom imports #\n",
    "from ..includes.naive import Naive\n",
    "from ..includes.kapra import KAPRA\n",
    "\n",
    "from ..includes.io import usage\n",
    "from ..includes.l_diversity import enforce_l_diversity\n"
   ]
  },
  {
   "cell_type": "code",
   "execution_count": null,
   "metadata": {},
   "outputs": [],
   "source": [
    "k_val, P_val, paa_val = 16, 6, 6\n",
    "\n",
    "l_range_vals = [2, 3, 4] # range(P_value/6, P_value/2 + 1)\n",
    "\n",
    "data_paths = [\"..\\\\data\\\\sales_transactions_dataset_weekly.csv\",\n",
    "              \"..\\\\data\\\\facebook_palestine.csv\",\n",
    "              \"..\\\\data\\\\facebook_microsoft.csv\"]\n",
    "\n",
    "k_P_model = Naive\n"
   ]
  },
  {
   "source": [
    "# l-diversity tuning\n",
    "\n",
    "Analyze the negative impact l-diversity may have on a dataset by looking at the number of required perturbation round. This metric can be thought of as a proxy for the amount of noise introduced in the sensitive data, as a larger number of rounds means a larger perturbation delta from the original values."
   ],
   "cell_type": "markdown",
   "metadata": {}
  },
  {
   "cell_type": "code",
   "execution_count": null,
   "metadata": {},
   "outputs": [],
   "source": [
    "for data_path in data_paths:\n",
    "    for l in l_range_vals:\n",
    "        start = time.time()\n",
    "\n",
    "        pertbd = k_P_model(k_val, P_val, paa_val,\n",
    "                           l, data_path)\n",
    "\n",
    "        end = time.time()\n",
    "\n",
    "        s_6  = sum(1 for r in pertbd.values() if r > 6)\n",
    "        s_9  = sum(1 for r in pertbd.values() if r > 9)\n",
    "        s_12 = sum(1 for r in pertbd.values() if r > 12)\n",
    "        s_15 = sum(1 for r in pertbd.values() if r > 15)\n",
    "        s_18 = sum(1 for r in pertbd.values() if r > 18)\n",
    "\n",
    "        print(f\"With an l value of {l}, {len(pertbd)} sensitive data\"\n",
    "                + f\" have been perturbed in {end - start} sec\")\n",
    "\n",
    "        # Considering deltas up to +-18\n",
    "        print(f\"{s_6} of these had a round greater than 6\")\n",
    "        print(f\"{s_9} of these had a round greater than 9\")\n",
    "        print(f\"{s_12} of these had a round greater than 12\")\n",
    "        print(f\"{s_15} of these had a round greater than 15\")\n",
    "        print(f\"{s_18} of these had a round greater than 18\\n\")\n"
   ]
  }
 ],
 "metadata": {
  "kernelspec": {
   "name": "python3710jvsc74a57bd08891183d2f4d995290a6ef22b735fa047fe624bea22e694731c2e5b74f4c2bd5",
   "display_name": "Python 3.7.10 64-bit ('base': conda)"
  },
  "language_info": {
   "codemirror_mode": {
    "name": "ipython",
    "version": 3
   },
   "file_extension": ".py",
   "mimetype": "text/x-python",
   "name": "python",
   "nbconvert_exporter": "python",
   "pygments_lexer": "ipython3",
   "version": "3.7.10"
  }
 },
 "nbformat": 4,
 "nbformat_minor": 4
}