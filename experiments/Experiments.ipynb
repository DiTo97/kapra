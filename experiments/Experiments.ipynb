{
  "nbformat": 4,
  "nbformat_minor": 0,
  "metadata": {
    "colab": {
      "name": "DPPNotebook.ipynb",
      "provenance": [],
      "collapsed_sections": []
    },
    "kernelspec": {
      "name": "python3",
      "display_name": "Python 3",
      "language": "python"
    }
  },
  "cells": [
    {
      "cell_type": "code",
      "execution_count": 1,
      "metadata": {},
      "outputs": [],
      "source": [
        "import os\n",
        "import subprocess\n",
        "\n",
        "from concurrent.futures import thread # Parallelize comparisons\n",
        "from pathlib import Path"
      ]
    },
    {
      "cell_type": "code",
      "execution_count": 3,
      "metadata": {},
      "outputs": [],
      "source": [
        "k_P_pairs = [\n",
        "    (16, 6),\n",
        "    (16, 3)\n",
        "]\n",
        "\n",
        "l   = 1 # No perturbation from l-diversity\n",
        "PAA = 6\n",
        "\n",
        "DATASETS = [\n",
        "    'facebook_microsoft.csv',\n",
        "    'facebook_palestine.csv',\n",
        "    'sales_transactions_dataset_weekly.csv'\n",
        "]\n",
        "\n",
        "ALGORITHMS = [\n",
        "    'naive',\n",
        "    'kapra'\n",
        "]\n",
        "\n",
        "DATA_DIR = 'data'\n",
        "SRC = 'k_P_anonymity.py'"
      ]
    },
    {
      "cell_type": "code",
      "execution_count": 4,
      "metadata": {},
      "outputs": [],
      "source": [
        "abs_data_dir = Path(os.path.dirname(os.path.abspath('__file__'))).parent / DATA_DIR\n",
        "abs_src_path = abs_data_dir.parent / SRC"
      ]
    },
    {
      "cell_type": "code",
      "execution_count": 5,
      "metadata": {},
      "outputs": [],
      "source": [
        "def run_experiment(dataset):\n",
        "    abs_data_path = str(abs_data_dir / dataset)\n",
        "    errs = []\n",
        "\n",
        "    for algo in ALGORITHMS:\n",
        "        for k_P in k_P_pairs:\n",
        "            k, P = k_P\n",
        "\n",
        "            cmd = 'python {} {} {} {} {} {} {}'.format('\"' + str(abs_src_path) + '\"',\n",
        "                    algo, k, P, PAA, l, '\"' + abs_data_path + '\"')\n",
        "\n",
        "            try:\n",
        "                subprocess.run(cmd, shell=True, check=True)\n",
        "            except subprocess.CalledProcessError as e:\n",
        "                errs.append(str(e))\n",
        "\n",
        "    return errs"
      ]
    },
    {
      "cell_type": "code",
      "execution_count": 6,
      "metadata": {},
      "outputs": [],
      "source": [
        "def print_experiment_errs(res):\n",
        "    exper_errs = list(res)\n",
        "\n",
        "    for exper in exper_errs:\n",
        "        dataset, errs = exper\n",
        "\n",
        "        if len(errs) == 0:\n",
        "            print('No errors found with dataset {}'.format(dataset))\n",
        "        else:\n",
        "            print('Found {} errors with dataset {}'.format(len(errs), dataset))\n",
        "\n",
        "            for err in errs:\n",
        "                print(err)\n",
        "\n",
        "        print('\\n')\n",
        "\n",
        "    return exper_errs"
      ]
    },
    {
      "cell_type": "code",
      "execution_count": 7,
      "metadata": {},
      "outputs": [
        {
          "output_type": "stream",
          "name": "stdout",
          "text": [
            "Found 1 errors with dataset sales_transactions_dataset_weekly.csv\nCommand 'python \"c:\\Users\\DiTo\\Dropbox\\Computer Science\\Year 2\\Semester 1\\Data protection & privacy\\Laboratories\\Laboratory-03\\k-P anonymity\\k_P_anonymity.py\" naive 16 6 6 1 \"c:\\Users\\DiTo\\Dropbox\\Computer Science\\Year 2\\Semester 1\\Data protection & privacy\\Laboratories\\Laboratory-03\\k-P anonymity\\data\\sales_transactions_dataset_weekly.csv\"' returned non-zero exit status 1.\n\n\n"
          ]
        }
      ],
      "source": [
        "with thread.ThreadPoolExecutor(max_workers=16) as exec:\n",
        "    res = zip(DATASETS, list(exec.map(run_experiment, DATASETS))) # Store comparison results\n",
        "\n",
        "# Print experiment errors\n",
        "exper_errs = print_experiment_errs(res)"
      ]
    }
  ]
}