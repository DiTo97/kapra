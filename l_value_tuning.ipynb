{
 "cells": [
  {
   "cell_type": "code",
   "execution_count": null,
   "metadata": {},
   "outputs": [],
   "source": [
    "import sys\n",
    "import time\n",
    "\n",
    "from loguru import logger\n",
    "\n",
    "# Custom imports #\n",
    "from includes.naive import Naive\n",
    "from includes.kapra import KAPRA\n",
    "\n",
    "from includes.io import usage\n",
    "from includes.l_diversity import __perturbated__"
   ]
  },
  {
   "cell_type": "code",
   "execution_count": null,
   "metadata": {},
   "outputs": [],
   "source": [
    "k_value, p_value, paa_value = 16, 6, 6\n",
    "data_path = \".\\\\data\\\\facebook_palestine.csv\"  #circa 8000 records\n",
    "\n",
    "l_ranges = [2,3,4]  # range(p_value/6, p_value/2 + 1)\n",
    "# print(l_ranges)\n",
    "\n",
    "for l in l_ranges:\n",
    "    start = time.time()\n",
    "    Naive(k_value, p_value, paa_value, l, data_path)\n",
    "    end = time.time()\n",
    "    pertbd = __perturbated__\n",
    "    s_6 = sum(1 for r in pertbd.values() if r>6)\n",
    "    s_9 = sum(1 for r in pertbd.values() if r>9)\n",
    "    s_12 = sum(1 for r in pertbd.values() if r>12)\n",
    "    s_15 = sum(1 for r in pertbd.values() if r>15)\n",
    "    print(f\"having set l_value to {l}, {len(pertbd)} sensitive data have been perturbed\")\n",
    "    print(f\"{s_6} of these had a round greater than 6\")\n",
    "    print(f\"{s_9} of these had a round greater than 9\")\n",
    "    print(f\"{s_12} of these had a round greater than 12\")\n",
    "    print(f\"{s_15} of these had a round greater than 15\")\n",
    "    print(f\"whole process took {end-start} seconds\")"
   ]
  },
  {
   "cell_type": "code",
   "execution_count": null,
   "metadata": {},
   "outputs": [],
   "source": [
    "end-start"
   ]
  },
  {
   "cell_type": "code",
   "execution_count": null,
   "metadata": {},
   "outputs": [],
   "source": [
    "end"
   ]
  },
  {
   "cell_type": "code",
   "execution_count": null,
   "metadata": {},
   "outputs": [],
   "source": []
  }
 ],
 "metadata": {
  "kernelspec": {
   "display_name": "Python 3",
   "language": "python",
   "name": "python3"
  },
  "language_info": {
   "codemirror_mode": {
    "name": "ipython",
    "version": 3
   },
   "file_extension": ".py",
   "mimetype": "text/x-python",
   "name": "python",
   "nbconvert_exporter": "python",
   "pygments_lexer": "ipython3",
   "version": "3.7.6"
  }
 },
 "nbformat": 4,
 "nbformat_minor": 4
}
